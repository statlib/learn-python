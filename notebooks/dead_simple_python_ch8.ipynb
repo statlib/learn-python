{
  "nbformat": 4,
  "nbformat_minor": 0,
  "metadata": {
    "colab": {
      "provenance": [],
      "authorship_tag": "ABX9TyMYDChLiOw7IuQGJHhu+DvW",
      "include_colab_link": true
    },
    "kernelspec": {
      "name": "python3",
      "display_name": "Python 3"
    },
    "language_info": {
      "name": "python"
    }
  },
  "cells": [
    {
      "cell_type": "markdown",
      "metadata": {
        "id": "view-in-github",
        "colab_type": "text"
      },
      "source": [
        "<a href=\"https://colab.research.google.com/github/statlib/learn-python/blob/main/notebooks/dead_simple_python_ch8.ipynb\" target=\"_parent\"><img src=\"https://colab.research.google.com/assets/colab-badge.svg\" alt=\"Open In Colab\"/></a>"
      ]
    },
    {
      "cell_type": "code",
      "execution_count": 1,
      "metadata": {
        "id": "XdDiQzdwaHrY"
      },
      "outputs": [],
      "source": [
        "import random"
      ]
    },
    {
      "cell_type": "code",
      "source": [
        "def generate_puzzle(low=1, high=100):\n",
        "    print(f\"I'm thinking of a number between {low} and {high}...\")\n",
        "    return random.randint(low, high)"
      ],
      "metadata": {
        "id": "87wJvgWTaiww"
      },
      "execution_count": 2,
      "outputs": []
    },
    {
      "cell_type": "code",
      "source": [
        "def make_guess(target):\n",
        "    guess = int(input(\"Guess: \"))\n",
        "\n",
        "    if guess == target:\n",
        "        return True\n",
        "\n",
        "    if guess < target:\n",
        "        print(\"Too low.\")\n",
        "    elif guess > target:\n",
        "        print(\"Too high.\")\n",
        "    return False"
      ],
      "metadata": {
        "id": "PI5IlDKIal6I"
      },
      "execution_count": 3,
      "outputs": []
    },
    {
      "cell_type": "code",
      "source": [
        "def play(tries=8):\n",
        "    target = generate_puzzle()\n",
        "    while tries > 0:\n",
        "        if make_guess(target):\n",
        "            print(\"You win!\")\n",
        "            return\n",
        "\n",
        "        tries -= 1\n",
        "        print(f\"{tries} tries left.\")\n",
        "\n",
        "    print(f\"Game over! The answer was {target}.\")"
      ],
      "metadata": {
        "id": "1NDCOjDqanii"
      },
      "execution_count": 4,
      "outputs": []
    },
    {
      "cell_type": "code",
      "source": [
        "if __name__ == '__main__':\n",
        "    play()"
      ],
      "metadata": {
        "colab": {
          "base_uri": "https://localhost:8080/"
        },
        "id": "S9003Su1appt",
        "outputId": "44c5db92-b831-498d-abac-bb5d43e8e4b5"
      },
      "execution_count": 6,
      "outputs": [
        {
          "output_type": "stream",
          "name": "stdout",
          "text": [
            "I'm thinking of a number between 1 and 100...\n",
            "Guess: 50\n",
            "You win!\n"
          ]
        }
      ]
    },
    {
      "cell_type": "markdown",
      "source": [
        "## Tracebacks\n",
        "Tells you what went wrong and where, including details of the error and the entire call stack. Read these from the bottom up."
      ],
      "metadata": {
        "id": "DPB0oCsja5_s"
      }
    },
    {
      "cell_type": "code",
      "source": [
        "play()"
      ],
      "metadata": {
        "colab": {
          "base_uri": "https://localhost:8080/",
          "height": 355
        },
        "id": "zZrK0gUvbDlQ",
        "outputId": "851d7738-f47d-4e90-929b-5800be6a24c2"
      },
      "execution_count": 7,
      "outputs": [
        {
          "name": "stdout",
          "output_type": "stream",
          "text": [
            "I'm thinking of a number between 1 and 100...\n",
            "Guess: Fifty\n"
          ]
        },
        {
          "output_type": "error",
          "ename": "ValueError",
          "evalue": "ignored",
          "traceback": [
            "\u001b[0;31m---------------------------------------------------------------------------\u001b[0m",
            "\u001b[0;31mValueError\u001b[0m                                Traceback (most recent call last)",
            "\u001b[0;32m<ipython-input-7-425fd712de3c>\u001b[0m in \u001b[0;36m<cell line: 1>\u001b[0;34m()\u001b[0m\n\u001b[0;32m----> 1\u001b[0;31m \u001b[0mplay\u001b[0m\u001b[0;34m(\u001b[0m\u001b[0;34m)\u001b[0m\u001b[0;34m\u001b[0m\u001b[0;34m\u001b[0m\u001b[0m\n\u001b[0m",
            "\u001b[0;32m<ipython-input-4-d25b5676bdc6>\u001b[0m in \u001b[0;36mplay\u001b[0;34m(tries)\u001b[0m\n\u001b[1;32m      2\u001b[0m     \u001b[0mtarget\u001b[0m \u001b[0;34m=\u001b[0m \u001b[0mgenerate_puzzle\u001b[0m\u001b[0;34m(\u001b[0m\u001b[0;34m)\u001b[0m\u001b[0;34m\u001b[0m\u001b[0;34m\u001b[0m\u001b[0m\n\u001b[1;32m      3\u001b[0m     \u001b[0;32mwhile\u001b[0m \u001b[0mtries\u001b[0m \u001b[0;34m>\u001b[0m \u001b[0;36m0\u001b[0m\u001b[0;34m:\u001b[0m\u001b[0;34m\u001b[0m\u001b[0;34m\u001b[0m\u001b[0m\n\u001b[0;32m----> 4\u001b[0;31m         \u001b[0;32mif\u001b[0m \u001b[0mmake_guess\u001b[0m\u001b[0;34m(\u001b[0m\u001b[0mtarget\u001b[0m\u001b[0;34m)\u001b[0m\u001b[0;34m:\u001b[0m\u001b[0;34m\u001b[0m\u001b[0;34m\u001b[0m\u001b[0m\n\u001b[0m\u001b[1;32m      5\u001b[0m             \u001b[0mprint\u001b[0m\u001b[0;34m(\u001b[0m\u001b[0;34m\"You win!\"\u001b[0m\u001b[0;34m)\u001b[0m\u001b[0;34m\u001b[0m\u001b[0;34m\u001b[0m\u001b[0m\n\u001b[1;32m      6\u001b[0m             \u001b[0;32mreturn\u001b[0m\u001b[0;34m\u001b[0m\u001b[0;34m\u001b[0m\u001b[0m\n",
            "\u001b[0;32m<ipython-input-3-fe3ddc14349d>\u001b[0m in \u001b[0;36mmake_guess\u001b[0;34m(target)\u001b[0m\n\u001b[1;32m      1\u001b[0m \u001b[0;32mdef\u001b[0m \u001b[0mmake_guess\u001b[0m\u001b[0;34m(\u001b[0m\u001b[0mtarget\u001b[0m\u001b[0;34m)\u001b[0m\u001b[0;34m:\u001b[0m\u001b[0;34m\u001b[0m\u001b[0;34m\u001b[0m\u001b[0m\n\u001b[0;32m----> 2\u001b[0;31m     \u001b[0mguess\u001b[0m \u001b[0;34m=\u001b[0m \u001b[0mint\u001b[0m\u001b[0;34m(\u001b[0m\u001b[0minput\u001b[0m\u001b[0;34m(\u001b[0m\u001b[0;34m\"Guess: \"\u001b[0m\u001b[0;34m)\u001b[0m\u001b[0;34m)\u001b[0m\u001b[0;34m\u001b[0m\u001b[0;34m\u001b[0m\u001b[0m\n\u001b[0m\u001b[1;32m      3\u001b[0m \u001b[0;34m\u001b[0m\u001b[0m\n\u001b[1;32m      4\u001b[0m     \u001b[0;32mif\u001b[0m \u001b[0mguess\u001b[0m \u001b[0;34m==\u001b[0m \u001b[0mtarget\u001b[0m\u001b[0;34m:\u001b[0m\u001b[0;34m\u001b[0m\u001b[0;34m\u001b[0m\u001b[0m\n\u001b[1;32m      5\u001b[0m         \u001b[0;32mreturn\u001b[0m \u001b[0;32mTrue\u001b[0m\u001b[0;34m\u001b[0m\u001b[0;34m\u001b[0m\u001b[0m\n",
            "\u001b[0;31mValueError\u001b[0m: invalid literal for int() with base 10: 'Fifty'"
          ]
        }
      ]
    },
    {
      "cell_type": "markdown",
      "source": [
        "In many languages, the common practice is to test the input before trying to convert it to an integer. This is known as the Look Before You Leap (LBYL) philosophy.\n",
        "\n",
        "Python has a different approach, officially known as Easier to Ask Forgiveness than Permission (EAFP). Instead of preventing errors, we embrace them, using try statements to handle exceptional situations."
      ],
      "metadata": {
        "id": "dEAFHFu8bRT3"
      }
    },
    {
      "cell_type": "code",
      "source": [
        "# EAFP\n",
        "def make_guess(target):\n",
        "    guess = None\n",
        "    while guess is None:\n",
        "        try:\n",
        "            guess = int(input(\"Guess: \"))\n",
        "        except ValueError:\n",
        "            print(\"Enter an integer.\")\n",
        "\n",
        "    if guess == target:\n",
        "        return True\n",
        "\n",
        "    if guess < target:\n",
        "        print(\"Too low.\")\n",
        "    elif guess > target:\n",
        "        print(\"Too high.\")\n",
        "    return False"
      ],
      "metadata": {
        "id": "DsRDcFE8bElc"
      },
      "execution_count": 11,
      "outputs": []
    },
    {
      "cell_type": "markdown",
      "source": [
        "In the LBYL approach below, `.isdigit()` is run on every guess, whether the input is erroneous or not, then the `int()` converstion is run if the test is passed. This means that `guess` is processed twice if valid, but only once for an error. With the EAFP strategy using `try`, the string was only ever processed once."
      ],
      "metadata": {
        "id": "rw6oeDPwbz9E"
      }
    },
    {
      "cell_type": "code",
      "source": [
        "# LBYL\n",
        "def make_guess(target):\n",
        "    guess = None\n",
        "    while guess is None:\n",
        "        guess = input()\n",
        "        if guess.isdigit():\n",
        "            guess = int(guess)\n",
        "        else:\n",
        "            print(\"Enter an integer.\")\n",
        "            guess = None\n",
        "\n",
        "    if guess == target:\n",
        "        return True\n",
        "\n",
        "    if guess < target:\n",
        "        print(\"Too low.\")\n",
        "    elif guess > target:\n",
        "        print(\"Too high.\")\n",
        "    return False"
      ],
      "metadata": {
        "id": "JUddtm5nbWiT"
      },
      "execution_count": 10,
      "outputs": []
    },
    {
      "cell_type": "markdown",
      "source": [
        "EAFP:\n",
        "* Luckily error-handling is not that expensive in Python, and is only expensive on the exceptions.\n",
        "* Instead of coming up with tests to anticipate every possible erroneous input, you only need to anticipate the likely exceptions, catch them and handle them accordingly."
      ],
      "metadata": {
        "id": "Eb-_a9KScVPB"
      }
    },
    {
      "cell_type": "code",
      "source": [],
      "metadata": {
        "id": "Nb_9fMjAbwy4"
      },
      "execution_count": null,
      "outputs": []
    }
  ]
}